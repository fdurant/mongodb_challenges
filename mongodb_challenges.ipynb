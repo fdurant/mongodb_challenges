{
 "metadata": {
  "name": "",
  "signature": "sha256:bc453e0c74466295726fc7945dd837d00ef3086dc1abe4fd1c2626c620944359"
 },
 "nbformat": 3,
 "nbformat_minor": 0,
 "worksheets": [
  {
   "cells": [
    {
     "cell_type": "heading",
     "level": 1,
     "metadata": {},
     "source": [
      "MongoDB challenges (Frederik Durant)"
     ]
    },
    {
     "cell_type": "heading",
     "level": 2,
     "metadata": {},
     "source": [
      "Database setup and testing"
     ]
    },
    {
     "cell_type": "code",
     "collapsed": false,
     "input": [
      "import pickle\n",
      "with open(\"heavy_metal_parsed.pkl\", 'r') as datafile:\n",
      "    heavy_metal_reviews = pickle.load(datafile)\n",
      "\n",
      "first_review = heavy_metal_reviews[0]\n",
      "for line in first_review['raw']:\n",
      "    print line"
     ],
     "language": "python",
     "metadata": {},
     "outputs": [
      {
       "output_type": "stream",
       "stream": "stdout",
       "text": [
        "200 MOTELS (1971)\n",
        "DIRECTORS: Tony Palmer, Frank Zappa\n",
        "CAST: Frank Zappa, Ringo Starr, Mark Volman, Howard Kaylan, Keith\n",
        "Moon\n",
        "METAL CRED\n",
        "Frank Zappa\n",
        "Nun Desecration\n",
        "THE MEAT\n",
        "Beyond his metal sainthood for\n",
        "battling the censor-witches of the PMRC and getting named checked by Deep\n",
        "Purple in \u201cSmoke on the Water\u201d, musical visionary Frank Zappa led many rock\n",
        "fans to heavy metal.\n",
        "And, from there, he led many metal\n",
        "fans to the outer expanses of rock\u2019s possibilities.\n",
        "Zappa also opened countless banging\n",
        "heads to the far reaches of jazz, classical, doo-wop, and any other art form\n",
        "that could involve (brilliant) noise and (brilliantly dumb) dirty jokes.\n",
        "200\n",
        "Motels is Zappa\u2019s first crack at major motion picture madness, and it\n",
        "embodies the much forgotten cultural moment when acid rock tumbled forever into\n",
        "the black pits of rising heavy metal.\n",
        "Surrealistic sketches and\n",
        "psychedelic set pieces about the insanity of a being on tour are interspersed\n",
        "among performances in which the Mothers jam with London Philharmonic.\n",
        "Ringo Starr plays Zappa during the\n",
        "talking parts. Zappa himself, plays guitar throughout, demonstrating how very\n",
        "much of a six-string maestro he was, every lick on par with his future\n",
        "collaborators Steve Vail and Yngwie Malmsteen.\n",
        "SOLID METAL NUGGETS\n",
        "\u2022 A psychedelic cartoon interlude\n",
        "admiringly tweaks Black Sabbath and Grand Funk Railroad.\n",
        "\u2022 Keith Moon, madman drummer of the\n",
        "Who, pops up\u2014and off\u2014as \u201cThe Hot Nun.\u201d\n"
       ]
      }
     ],
     "prompt_number": 2
    },
    {
     "cell_type": "code",
     "collapsed": false,
     "input": [
      "print first_review.keys()"
     ],
     "language": "python",
     "metadata": {},
     "outputs": [
      {
       "output_type": "stream",
       "stream": "stdout",
       "text": [
        "['raw', 'head', 'metal_cred', 'title', 'direct', 'solid_metal_nuggets', 'cast', 'the_meat', 'year', 'sections']\n"
       ]
      }
     ],
     "prompt_number": 3
    },
    {
     "cell_type": "code",
     "collapsed": false,
     "input": [
      "from pymongo import MongoClient\n",
      "import pickle\n",
      "client = MongoClient()\n",
      "with open('heavy_metal_parsed.pkl', 'r') as infile:\n",
      "    reviews = pickle.load(infile)\n",
      "reviews[0].keys()"
     ],
     "language": "python",
     "metadata": {},
     "outputs": [
      {
       "metadata": {},
       "output_type": "pyout",
       "prompt_number": 11,
       "text": [
        "['raw',\n",
        " 'head',\n",
        " 'metal_cred',\n",
        " 'title',\n",
        " 'direct',\n",
        " 'solid_metal_nuggets',\n",
        " 'cast',\n",
        " 'the_meat',\n",
        " 'year',\n",
        " 'sections']"
       ]
      }
     ],
     "prompt_number": 11
    },
    {
     "cell_type": "code",
     "collapsed": false,
     "input": [
      "reviews[0]"
     ],
     "language": "python",
     "metadata": {},
     "outputs": [
      {
       "metadata": {},
       "output_type": "pyout",
       "prompt_number": 12,
       "text": [
        "{'cast': [u'Frank Zappa',\n",
        "  u'Ringo Starr',\n",
        "  u'Mark Volman',\n",
        "  u'Howard Kaylan',\n",
        "  u'Keith Moon'],\n",
        " 'direct': [u'Tony Palmer', u'Frank Zappa'],\n",
        " 'head': [u'200 MOTELS (1971)',\n",
        "  u'DIRECTORS: Tony Palmer, Frank Zappa',\n",
        "  u'CAST: Frank Zappa, Ringo Starr, Mark Volman, Howard Kaylan, Keith\\nMoon'],\n",
        " 'metal_cred': [u'METAL CRED', u'Frank Zappa', u'Nun Desecration'],\n",
        " 'raw': [u'200 MOTELS (1971)',\n",
        "  u'DIRECTORS: Tony Palmer, Frank Zappa',\n",
        "  u'CAST: Frank Zappa, Ringo Starr, Mark Volman, Howard Kaylan, Keith\\nMoon',\n",
        "  u'METAL CRED',\n",
        "  u'Frank Zappa',\n",
        "  u'Nun Desecration',\n",
        "  u'THE MEAT',\n",
        "  u'Beyond his metal sainthood for\\nbattling the censor-witches of the PMRC and getting named checked by Deep\\nPurple in \\u201cSmoke on the Water\\u201d, musical visionary Frank Zappa led many rock\\nfans to heavy metal.',\n",
        "  u'And, from there, he led many metal\\nfans to the outer expanses of rock\\u2019s possibilities.',\n",
        "  u'Zappa also opened countless banging\\nheads to the far reaches of jazz, classical, doo-wop, and any other art form\\nthat could involve (brilliant) noise and (brilliantly dumb) dirty jokes.',\n",
        "  u'200\\nMotels is Zappa\\u2019s first crack at major motion picture madness, and it\\nembodies the much forgotten cultural moment when acid rock tumbled forever into\\nthe black pits of rising heavy metal.',\n",
        "  u'Surrealistic sketches and\\npsychedelic set pieces about the insanity of a being on tour are interspersed\\namong performances in which the Mothers jam with London Philharmonic.',\n",
        "  u'Ringo Starr plays Zappa during the\\ntalking parts. Zappa himself, plays guitar throughout, demonstrating how very\\nmuch of a six-string maestro he was, every lick on par with his future\\ncollaborators Steve Vail and Yngwie Malmsteen.',\n",
        "  u'SOLID METAL NUGGETS',\n",
        "  u'\\u2022 A psychedelic cartoon interlude\\nadmiringly tweaks Black Sabbath and Grand Funk Railroad.',\n",
        "  u'\\u2022 Keith Moon, madman drummer of the\\nWho, pops up\\u2014and off\\u2014as \\u201cThe Hot Nun.\\u201d'],\n",
        " 'sections': [[u'200 MOTELS (1971)',\n",
        "   u'DIRECTORS: Tony Palmer, Frank Zappa',\n",
        "   u'CAST: Frank Zappa, Ringo Starr, Mark Volman, Howard Kaylan, Keith\\nMoon'],\n",
        "  [u'METAL CRED', u'Frank Zappa', u'Nun Desecration'],\n",
        "  [u'THE MEAT',\n",
        "   u'Beyond his metal sainthood for\\nbattling the censor-witches of the PMRC and getting named checked by Deep\\nPurple in \\u201cSmoke on the Water\\u201d, musical visionary Frank Zappa led many rock\\nfans to heavy metal.',\n",
        "   u'And, from there, he led many metal\\nfans to the outer expanses of rock\\u2019s possibilities.',\n",
        "   u'Zappa also opened countless banging\\nheads to the far reaches of jazz, classical, doo-wop, and any other art form\\nthat could involve (brilliant) noise and (brilliantly dumb) dirty jokes.',\n",
        "   u'200\\nMotels is Zappa\\u2019s first crack at major motion picture madness, and it\\nembodies the much forgotten cultural moment when acid rock tumbled forever into\\nthe black pits of rising heavy metal.',\n",
        "   u'Surrealistic sketches and\\npsychedelic set pieces about the insanity of a being on tour are interspersed\\namong performances in which the Mothers jam with London Philharmonic.',\n",
        "   u'Ringo Starr plays Zappa during the\\ntalking parts. Zappa himself, plays guitar throughout, demonstrating how very\\nmuch of a six-string maestro he was, every lick on par with his future\\ncollaborators Steve Vail and Yngwie Malmsteen.'],\n",
        "  [u'SOLID METAL NUGGETS',\n",
        "   u'\\u2022 A psychedelic cartoon interlude\\nadmiringly tweaks Black Sabbath and Grand Funk Railroad.',\n",
        "   u'\\u2022 Keith Moon, madman drummer of the\\nWho, pops up\\u2014and off\\u2014as \\u201cThe Hot Nun.\\u201d']],\n",
        " 'solid_metal_nuggets': [u'SOLID METAL NUGGETS',\n",
        "  u'\\u2022 A psychedelic cartoon interlude\\nadmiringly tweaks Black Sabbath and Grand Funk Railroad.',\n",
        "  u'\\u2022 Keith Moon, madman drummer of the\\nWho, pops up\\u2014and off\\u2014as \\u201cThe Hot Nun.\\u201d'],\n",
        " 'the_meat': [u'THE MEAT',\n",
        "  u'Beyond his metal sainthood for\\nbattling the censor-witches of the PMRC and getting named checked by Deep\\nPurple in \\u201cSmoke on the Water\\u201d, musical visionary Frank Zappa led many rock\\nfans to heavy metal.',\n",
        "  u'And, from there, he led many metal\\nfans to the outer expanses of rock\\u2019s possibilities.',\n",
        "  u'Zappa also opened countless banging\\nheads to the far reaches of jazz, classical, doo-wop, and any other art form\\nthat could involve (brilliant) noise and (brilliantly dumb) dirty jokes.',\n",
        "  u'200\\nMotels is Zappa\\u2019s first crack at major motion picture madness, and it\\nembodies the much forgotten cultural moment when acid rock tumbled forever into\\nthe black pits of rising heavy metal.',\n",
        "  u'Surrealistic sketches and\\npsychedelic set pieces about the insanity of a being on tour are interspersed\\namong performances in which the Mothers jam with London Philharmonic.',\n",
        "  u'Ringo Starr plays Zappa during the\\ntalking parts. Zappa himself, plays guitar throughout, demonstrating how very\\nmuch of a six-string maestro he was, every lick on par with his future\\ncollaborators Steve Vail and Yngwie Malmsteen.'],\n",
        " 'title': u'200 MOTELS',\n",
        " 'year': 1971}"
       ]
      }
     ],
     "prompt_number": 12
    },
    {
     "cell_type": "code",
     "collapsed": false,
     "input": [
      "len(reviews)"
     ],
     "language": "python",
     "metadata": {},
     "outputs": [
      {
       "metadata": {},
       "output_type": "pyout",
       "prompt_number": 13,
       "text": [
        "877"
       ]
      }
     ],
     "prompt_number": 13
    },
    {
     "cell_type": "markdown",
     "metadata": {},
     "source": [
      "Load the heavy metal movies into MongoDB"
     ]
    },
    {
     "cell_type": "code",
     "collapsed": false,
     "input": [
      "hmm = client.dsbc.hmm\n",
      "for review in reviews:\n",
      "    hmm.save(review)\n",
      "\n",
      "cursor = hmm.find()\n",
      "print \"Number of documents: \", len(list(cursor)), # Don't do this on very large databases\n",
      "print \" = \", hmm.count()\n",
      "\n",
      "example = hmm.find_one()\n",
      "for k in example.keys():\n",
      "    print \"%s: \" %k, example[k];"
     ],
     "language": "python",
     "metadata": {},
     "outputs": [
      {
       "output_type": "stream",
       "stream": "stdout",
       "text": [
        "Number of documents:  856  =  856\n",
        "head:  [u'ARISE: THE SRI LANKAN METAL MUSIC DOCUMENTARY (2010)\\nDIRECTORS: Naveen Marasinghe, Dinesh\\nGuneratne', u'CAST: Cannibis, Fallen Grace, Funeral in Heaven, Merlock']\n",
        "metal_cred:  [u'METAL CRED', u'Few of us were overly hip to the\\nSri Lankan metal scene before this movie.']\n",
        "title:  ARISE: THE SRI LANKAN METAL MUSIC DOCUMENTARY\n",
        "direct:  [u'Naveen Marasinghe', u'Dinesh Guneratne']\n",
        "solid_metal_nuggets:  [u'SOLID METAL NUGGETS', u'\\u2022 Home recording and tape trading\\nplanted heavy metal seeds all over the globe. The musicians or Arise represent that initial flowering\\u2019s\\never-growing bounty. Cheap cameras and the Internet have now made the\\ndocumentary form the next powerful stage of metal\\u2019s grassroots revolution.']\n",
        "cast:  [u'Cannibis', u'Fallen Grace', u'Funeral in Heaven', u'Merlock']\n",
        "raw:  [u'ARISE: THE SRI LANKAN METAL MUSIC DOCUMENTARY (2010)\\nDIRECTORS: Naveen Marasinghe, Dinesh\\nGuneratne', u'CAST: Cannibis, Fallen Grace, Funeral in Heaven, Merlock', u'METAL CRED', u'Few of us were overly hip to the\\nSri Lankan metal scene before this movie.', u'THE MEAT', u'Shot on the fly throughout 2008 and\\n2009 by young metal fans with borrowed video cameras, Arise opens up the world of heavy metal in Sri Lanka by focusing on\\nfour bands practicing four distinct forms of the music.', u'Cannibis drips stoner sludge.\\nFallen grace plays melodic death metal. Funeral in Heaven rages black metal.\\nMerlock blows minds with progressive thrash.', u'SOLID METAL NUGGETS', u'\\u2022 Home recording and tape trading\\nplanted heavy metal seeds all over the globe. The musicians or Arise represent that initial flowering\\u2019s\\never-growing bounty. Cheap cameras and the Internet have now made the\\ndocumentary form the next powerful stage of metal\\u2019s grassroots revolution.']\n",
        "the_meat:  [u'THE MEAT', u'Shot on the fly throughout 2008 and\\n2009 by young metal fans with borrowed video cameras, Arise opens up the world of heavy metal in Sri Lanka by focusing on\\nfour bands practicing four distinct forms of the music.', u'Cannibis drips stoner sludge.\\nFallen grace plays melodic death metal. Funeral in Heaven rages black metal.\\nMerlock blows minds with progressive thrash.']\n",
        "year:  2010\n",
        "_id:  54ec9f5e4db64f03f7f3ac4a\n",
        "sections:  [[u'ARISE: THE SRI LANKAN METAL MUSIC DOCUMENTARY (2010)\\nDIRECTORS: Naveen Marasinghe, Dinesh\\nGuneratne', u'CAST: Cannibis, Fallen Grace, Funeral in Heaven, Merlock'], [u'METAL CRED', u'Few of us were overly hip to the\\nSri Lankan metal scene before this movie.'], [u'THE MEAT', u'Shot on the fly throughout 2008 and\\n2009 by young metal fans with borrowed video cameras, Arise opens up the world of heavy metal in Sri Lanka by focusing on\\nfour bands practicing four distinct forms of the music.', u'Cannibis drips stoner sludge.\\nFallen grace plays melodic death metal. Funeral in Heaven rages black metal.\\nMerlock blows minds with progressive thrash.'], [u'SOLID METAL NUGGETS', u'\\u2022 Home recording and tape trading\\nplanted heavy metal seeds all over the globe. The musicians or Arise represent that initial flowering\\u2019s\\never-growing bounty. Cheap cameras and the Internet have now made the\\ndocumentary form the next powerful stage of metal\\u2019s grassroots revolution.']]\n"
       ]
      }
     ],
     "prompt_number": 25
    },
    {
     "cell_type": "heading",
     "level": 2,
     "metadata": {},
     "source": [
      "Challenge 1"
     ]
    },
    {
     "cell_type": "raw",
     "metadata": {},
     "source": [
      "Make a histogram of the years in the data. How many metal movies came out over the years?"
     ]
    },
    {
     "cell_type": "code",
     "collapsed": false,
     "input": [
      "%matplotlib inline\n",
      "import pandas as pd\n",
      "import numpy as np\n",
      "import matplotlib.pyplot as plt\n",
      "\n",
      "fieldName = 'year'\n",
      "\n",
      "years = []\n",
      "cursor = hmm.find()\n",
      "for doc in cursor:\n",
      "    if doc[fieldName]:\n",
      "        years.append(doc[fieldName])\n",
      "\n",
      "df = pd.DataFrame(years, columns=[fieldName])\n",
      "\n",
      "#print df\n",
      "\n",
      "groupByYear = df.groupby(fieldName)\n",
      "histData = groupByYear[fieldName].count()\n",
      "\n",
      "print histData\n",
      "\n",
      "histData.plot(kind='bar')\n",
      "plt.ylabel(\"# heavy metal movies\")\n",
      "plt.show()\n"
     ],
     "language": "python",
     "metadata": {},
     "outputs": [
      {
       "output_type": "stream",
       "stream": "stdout",
       "text": [
        "year\n",
        "1910    1\n",
        "1912    1\n",
        "1920    1\n",
        "1922    2\n",
        "1923    1\n",
        "1925    1\n",
        "1926    1\n",
        "1929    1\n",
        "1931    2\n",
        "1932    4\n",
        "1933    1\n",
        "1936    1\n",
        "1940    1\n",
        "1941    1\n",
        "1945    1\n",
        "...\n",
        "1999     9\n",
        "2000    13\n",
        "2001    16\n",
        "2002    12\n",
        "2003    11\n",
        "2004    11\n",
        "2005    13\n",
        "2006    19\n",
        "2007    19\n",
        "2008    26\n",
        "2009    22\n",
        "2010    35\n",
        "2011    19\n",
        "2012    15\n",
        "2013     2\n",
        "Name: year, Length: 74, dtype: int64\n"
       ]
      },
      {
       "metadata": {},
       "output_type": "display_data",
       "png": "[encoded data removed]",
       "text": [
        "<matplotlib.figure.Figure at 0x109e38110>"
       ]
      }
     ],
     "prompt_number": 59
    },
    {
     "cell_type": "heading",
     "level": 2,
     "metadata": {},
     "source": [
      "Challenge 2"
     ]
    },
    {
     "cell_type": "raw",
     "metadata": {},
     "source": [
      "Find the cast member that appeared in most Heavy Metal movies. Is there one that is shared by more than one of these movies? Or are they all completely different actors for every movie?"
     ]
    },
    {
     "cell_type": "code",
     "collapsed": false,
     "input": [
      "import operator\n",
      "fieldName = 'cast'\n",
      "\n",
      "# Key: actor name; value: # appearances in cast\n",
      "cast = {}\n",
      "cursor = hmm.find()\n",
      "for doc in cursor:\n",
      "    if doc[fieldName]:\n",
      "        for m in doc[fieldName]:\n",
      "            if m != '':\n",
      "                if cast.has_key(m):\n",
      "                    cast[m] += 1\n",
      "                else:\n",
      "                    cast[m] = 1\n",
      "\n",
      "sortedCast = sorted(cast.items(), key=operator.itemgetter(1), reverse=True)\n",
      "\n",
      "print sortedCast[:10]"
     ],
     "language": "python",
     "metadata": {},
     "outputs": [
      {
       "output_type": "stream",
       "stream": "stdout",
       "text": [
        "[(u'Alice Cooper', 15), (u'Christopher Lee', 14), (u'Arnold Schwarzenegger', 10), (u'Ozzy Osbourne', 9), (u'Peter Cushing', 8), (u'Vincent Price', 8), (u'Gwar', 8), (u'Robert Englund', 7), (u'Metallica', 7), (u'Lemmy', 7)]\n"
       ]
      }
     ],
     "prompt_number": 71
    }
   ],
   "metadata": {}
  }
 ]
}