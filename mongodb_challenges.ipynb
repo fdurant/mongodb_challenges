{
 "metadata": {
  "name": "",
  "signature": "sha256:640e411f8795e8b518c9fd18c9ecc2e6c460d44c335a4b8ca00e3c590c8c1525"
 },
 "nbformat": 3,
 "nbformat_minor": 0,
 "worksheets": [
  {
   "cells": [
    {
     "cell_type": "heading",
     "level": 1,
     "metadata": {},
     "source": [
      "MongoDB challenges (Frederik Durant)"
     ]
    },
    {
     "cell_type": "heading",
     "level": 2,
     "metadata": {},
     "source": [
      "Database setup and testing"
     ]
    },
    {
     "cell_type": "code",
     "collapsed": false,
     "input": [
      "import pickle\n",
      "with open(\"heavy_metal_parsed.pkl\", 'r') as datafile:\n",
      "    heavy_metal_reviews = pickle.load(datafile)\n",
      "\n",
      "first_review = heavy_metal_reviews[0]\n",
      "for line in first_review['raw']:\n",
      "    print line"
     ],
     "language": "python",
     "metadata": {},
     "outputs": [
      {
       "output_type": "stream",
       "stream": "stdout",
       "text": [
        "200 MOTELS (1971)\n",
        "DIRECTORS: Tony Palmer, Frank Zappa\n",
        "CAST: Frank Zappa, Ringo Starr, Mark Volman, Howard Kaylan, Keith\n",
        "Moon\n",
        "METAL CRED\n",
        "Frank Zappa\n",
        "Nun Desecration\n",
        "THE MEAT\n",
        "Beyond his metal sainthood for\n",
        "battling the censor-witches of the PMRC and getting named checked by Deep\n",
        "Purple in \u201cSmoke on the Water\u201d, musical visionary Frank Zappa led many rock\n",
        "fans to heavy metal.\n",
        "And, from there, he led many metal\n",
        "fans to the outer expanses of rock\u2019s possibilities.\n",
        "Zappa also opened countless banging\n",
        "heads to the far reaches of jazz, classical, doo-wop, and any other art form\n",
        "that could involve (brilliant) noise and (brilliantly dumb) dirty jokes.\n",
        "200\n",
        "Motels is Zappa\u2019s first crack at major motion picture madness, and it\n",
        "embodies the much forgotten cultural moment when acid rock tumbled forever into\n",
        "the black pits of rising heavy metal.\n",
        "Surrealistic sketches and\n",
        "psychedelic set pieces about the insanity of a being on tour are interspersed\n",
        "among performances in which the Mothers jam with London Philharmonic.\n",
        "Ringo Starr plays Zappa during the\n",
        "talking parts. Zappa himself, plays guitar throughout, demonstrating how very\n",
        "much of a six-string maestro he was, every lick on par with his future\n",
        "collaborators Steve Vail and Yngwie Malmsteen.\n",
        "SOLID METAL NUGGETS\n",
        "\u2022 A psychedelic cartoon interlude\n",
        "admiringly tweaks Black Sabbath and Grand Funk Railroad.\n",
        "\u2022 Keith Moon, madman drummer of the\n",
        "Who, pops up\u2014and off\u2014as \u201cThe Hot Nun.\u201d\n"
       ]
      }
     ],
     "prompt_number": 1
    },
    {
     "cell_type": "code",
     "collapsed": false,
     "input": [
      "print first_review.keys()"
     ],
     "language": "python",
     "metadata": {},
     "outputs": [
      {
       "output_type": "stream",
       "stream": "stdout",
       "text": [
        "['raw', 'head', 'metal_cred', 'title', 'direct', 'solid_metal_nuggets', 'cast', 'the_meat', 'year', 'sections']\n"
       ]
      }
     ],
     "prompt_number": 2
    },
    {
     "cell_type": "code",
     "collapsed": false,
     "input": [
      "from pymongo import MongoClient\n",
      "import pickle\n",
      "client = MongoClient()\n",
      "with open('heavy_metal_parsed.pkl', 'r') as infile:\n",
      "    reviews = pickle.load(infile)\n",
      "reviews[0].keys()"
     ],
     "language": "python",
     "metadata": {},
     "outputs": [
      {
       "metadata": {},
       "output_type": "pyout",
       "prompt_number": 3,
       "text": [
        "['raw',\n",
        " 'head',\n",
        " 'metal_cred',\n",
        " 'title',\n",
        " 'direct',\n",
        " 'solid_metal_nuggets',\n",
        " 'cast',\n",
        " 'the_meat',\n",
        " 'year',\n",
        " 'sections']"
       ]
      }
     ],
     "prompt_number": 3
    },
    {
     "cell_type": "code",
     "collapsed": false,
     "input": [
      "reviews[0]"
     ],
     "language": "python",
     "metadata": {},
     "outputs": [
      {
       "metadata": {},
       "output_type": "pyout",
       "prompt_number": 4,
       "text": [
        "{'cast': [u'Frank Zappa',\n",
        "  u'Ringo Starr',\n",
        "  u'Mark Volman',\n",
        "  u'Howard Kaylan',\n",
        "  u'Keith Moon'],\n",
        " 'direct': [u'Tony Palmer', u'Frank Zappa'],\n",
        " 'head': [u'200 MOTELS (1971)',\n",
        "  u'DIRECTORS: Tony Palmer, Frank Zappa',\n",
        "  u'CAST: Frank Zappa, Ringo Starr, Mark Volman, Howard Kaylan, Keith\\nMoon'],\n",
        " 'metal_cred': [u'METAL CRED', u'Frank Zappa', u'Nun Desecration'],\n",
        " 'raw': [u'200 MOTELS (1971)',\n",
        "  u'DIRECTORS: Tony Palmer, Frank Zappa',\n",
        "  u'CAST: Frank Zappa, Ringo Starr, Mark Volman, Howard Kaylan, Keith\\nMoon',\n",
        "  u'METAL CRED',\n",
        "  u'Frank Zappa',\n",
        "  u'Nun Desecration',\n",
        "  u'THE MEAT',\n",
        "  u'Beyond his metal sainthood for\\nbattling the censor-witches of the PMRC and getting named checked by Deep\\nPurple in \\u201cSmoke on the Water\\u201d, musical visionary Frank Zappa led many rock\\nfans to heavy metal.',\n",
        "  u'And, from there, he led many metal\\nfans to the outer expanses of rock\\u2019s possibilities.',\n",
        "  u'Zappa also opened countless banging\\nheads to the far reaches of jazz, classical, doo-wop, and any other art form\\nthat could involve (brilliant) noise and (brilliantly dumb) dirty jokes.',\n",
        "  u'200\\nMotels is Zappa\\u2019s first crack at major motion picture madness, and it\\nembodies the much forgotten cultural moment when acid rock tumbled forever into\\nthe black pits of rising heavy metal.',\n",
        "  u'Surrealistic sketches and\\npsychedelic set pieces about the insanity of a being on tour are interspersed\\namong performances in which the Mothers jam with London Philharmonic.',\n",
        "  u'Ringo Starr plays Zappa during the\\ntalking parts. Zappa himself, plays guitar throughout, demonstrating how very\\nmuch of a six-string maestro he was, every lick on par with his future\\ncollaborators Steve Vail and Yngwie Malmsteen.',\n",
        "  u'SOLID METAL NUGGETS',\n",
        "  u'\\u2022 A psychedelic cartoon interlude\\nadmiringly tweaks Black Sabbath and Grand Funk Railroad.',\n",
        "  u'\\u2022 Keith Moon, madman drummer of the\\nWho, pops up\\u2014and off\\u2014as \\u201cThe Hot Nun.\\u201d'],\n",
        " 'sections': [[u'200 MOTELS (1971)',\n",
        "   u'DIRECTORS: Tony Palmer, Frank Zappa',\n",
        "   u'CAST: Frank Zappa, Ringo Starr, Mark Volman, Howard Kaylan, Keith\\nMoon'],\n",
        "  [u'METAL CRED', u'Frank Zappa', u'Nun Desecration'],\n",
        "  [u'THE MEAT',\n",
        "   u'Beyond his metal sainthood for\\nbattling the censor-witches of the PMRC and getting named checked by Deep\\nPurple in \\u201cSmoke on the Water\\u201d, musical visionary Frank Zappa led many rock\\nfans to heavy metal.',\n",
        "   u'And, from there, he led many metal\\nfans to the outer expanses of rock\\u2019s possibilities.',\n",
        "   u'Zappa also opened countless banging\\nheads to the far reaches of jazz, classical, doo-wop, and any other art form\\nthat could involve (brilliant) noise and (brilliantly dumb) dirty jokes.',\n",
        "   u'200\\nMotels is Zappa\\u2019s first crack at major motion picture madness, and it\\nembodies the much forgotten cultural moment when acid rock tumbled forever into\\nthe black pits of rising heavy metal.',\n",
        "   u'Surrealistic sketches and\\npsychedelic set pieces about the insanity of a being on tour are interspersed\\namong performances in which the Mothers jam with London Philharmonic.',\n",
        "   u'Ringo Starr plays Zappa during the\\ntalking parts. Zappa himself, plays guitar throughout, demonstrating how very\\nmuch of a six-string maestro he was, every lick on par with his future\\ncollaborators Steve Vail and Yngwie Malmsteen.'],\n",
        "  [u'SOLID METAL NUGGETS',\n",
        "   u'\\u2022 A psychedelic cartoon interlude\\nadmiringly tweaks Black Sabbath and Grand Funk Railroad.',\n",
        "   u'\\u2022 Keith Moon, madman drummer of the\\nWho, pops up\\u2014and off\\u2014as \\u201cThe Hot Nun.\\u201d']],\n",
        " 'solid_metal_nuggets': [u'SOLID METAL NUGGETS',\n",
        "  u'\\u2022 A psychedelic cartoon interlude\\nadmiringly tweaks Black Sabbath and Grand Funk Railroad.',\n",
        "  u'\\u2022 Keith Moon, madman drummer of the\\nWho, pops up\\u2014and off\\u2014as \\u201cThe Hot Nun.\\u201d'],\n",
        " 'the_meat': [u'THE MEAT',\n",
        "  u'Beyond his metal sainthood for\\nbattling the censor-witches of the PMRC and getting named checked by Deep\\nPurple in \\u201cSmoke on the Water\\u201d, musical visionary Frank Zappa led many rock\\nfans to heavy metal.',\n",
        "  u'And, from there, he led many metal\\nfans to the outer expanses of rock\\u2019s possibilities.',\n",
        "  u'Zappa also opened countless banging\\nheads to the far reaches of jazz, classical, doo-wop, and any other art form\\nthat could involve (brilliant) noise and (brilliantly dumb) dirty jokes.',\n",
        "  u'200\\nMotels is Zappa\\u2019s first crack at major motion picture madness, and it\\nembodies the much forgotten cultural moment when acid rock tumbled forever into\\nthe black pits of rising heavy metal.',\n",
        "  u'Surrealistic sketches and\\npsychedelic set pieces about the insanity of a being on tour are interspersed\\namong performances in which the Mothers jam with London Philharmonic.',\n",
        "  u'Ringo Starr plays Zappa during the\\ntalking parts. Zappa himself, plays guitar throughout, demonstrating how very\\nmuch of a six-string maestro he was, every lick on par with his future\\ncollaborators Steve Vail and Yngwie Malmsteen.'],\n",
        " 'title': u'200 MOTELS',\n",
        " 'year': 1971}"
       ]
      }
     ],
     "prompt_number": 4
    },
    {
     "cell_type": "code",
     "collapsed": false,
     "input": [
      "len(reviews)"
     ],
     "language": "python",
     "metadata": {},
     "outputs": [
      {
       "metadata": {},
       "output_type": "pyout",
       "prompt_number": 5,
       "text": [
        "877"
       ]
      }
     ],
     "prompt_number": 5
    },
    {
     "cell_type": "markdown",
     "metadata": {},
     "source": [
      "Load the heavy metal movies into MongoDB"
     ]
    },
    {
     "cell_type": "code",
     "collapsed": false,
     "input": [
      "hmm = client.dsbc.hmm\n",
      "for review in reviews:\n",
      "    hmm.save(review)\n",
      "\n",
      "cursor = hmm.find()\n",
      "print \"Number of documents: \", len(list(cursor)), # Don't do this on very large databases\n",
      "print \" = \", hmm.count()\n",
      "\n",
      "example = hmm.find_one()\n",
      "for k in example.keys():\n",
      "    print \"%s: \" %k, example[k];"
     ],
     "language": "python",
     "metadata": {},
     "outputs": [
      {
       "output_type": "stream",
       "stream": "stdout",
       "text": [
        "Number of documents:  "
       ]
      },
      {
       "output_type": "stream",
       "stream": "stdout",
       "text": [
        "1712  =  1712\n",
        "head:  [u'ARISE: THE SRI LANKAN METAL MUSIC DOCUMENTARY (2010)\\nDIRECTORS: Naveen Marasinghe, Dinesh\\nGuneratne', u'CAST: Cannibis, Fallen Grace, Funeral in Heaven, Merlock']\n",
        "metal_cred:  [u'METAL CRED', u'Few of us were overly hip to the\\nSri Lankan metal scene before this movie.']\n",
        "title:  ARISE: THE SRI LANKAN METAL MUSIC DOCUMENTARY\n",
        "direct:  [u'Naveen Marasinghe', u'Dinesh Guneratne']\n",
        "solid_metal_nuggets:  [u'SOLID METAL NUGGETS', u'\\u2022 Home recording and tape trading\\nplanted heavy metal seeds all over the globe. The musicians or Arise represent that initial flowering\\u2019s\\never-growing bounty. Cheap cameras and the Internet have now made the\\ndocumentary form the next powerful stage of metal\\u2019s grassroots revolution.']\n",
        "cast:  [u'Cannibis', u'Fallen Grace', u'Funeral in Heaven', u'Merlock']\n",
        "raw:  [u'ARISE: THE SRI LANKAN METAL MUSIC DOCUMENTARY (2010)\\nDIRECTORS: Naveen Marasinghe, Dinesh\\nGuneratne', u'CAST: Cannibis, Fallen Grace, Funeral in Heaven, Merlock', u'METAL CRED', u'Few of us were overly hip to the\\nSri Lankan metal scene before this movie.', u'THE MEAT', u'Shot on the fly throughout 2008 and\\n2009 by young metal fans with borrowed video cameras, Arise opens up the world of heavy metal in Sri Lanka by focusing on\\nfour bands practicing four distinct forms of the music.', u'Cannibis drips stoner sludge.\\nFallen grace plays melodic death metal. Funeral in Heaven rages black metal.\\nMerlock blows minds with progressive thrash.', u'SOLID METAL NUGGETS', u'\\u2022 Home recording and tape trading\\nplanted heavy metal seeds all over the globe. The musicians or Arise represent that initial flowering\\u2019s\\never-growing bounty. Cheap cameras and the Internet have now made the\\ndocumentary form the next powerful stage of metal\\u2019s grassroots revolution.']\n",
        "the_meat:  [u'THE MEAT', u'Shot on the fly throughout 2008 and\\n2009 by young metal fans with borrowed video cameras, Arise opens up the world of heavy metal in Sri Lanka by focusing on\\nfour bands practicing four distinct forms of the music.', u'Cannibis drips stoner sludge.\\nFallen grace plays melodic death metal. Funeral in Heaven rages black metal.\\nMerlock blows minds with progressive thrash.']\n",
        "year:  2010\n",
        "_id:  54ec9f5e4db64f03f7f3ac4a\n",
        "sections:  [[u'ARISE: THE SRI LANKAN METAL MUSIC DOCUMENTARY (2010)\\nDIRECTORS: Naveen Marasinghe, Dinesh\\nGuneratne', u'CAST: Cannibis, Fallen Grace, Funeral in Heaven, Merlock'], [u'METAL CRED', u'Few of us were overly hip to the\\nSri Lankan metal scene before this movie.'], [u'THE MEAT', u'Shot on the fly throughout 2008 and\\n2009 by young metal fans with borrowed video cameras, Arise opens up the world of heavy metal in Sri Lanka by focusing on\\nfour bands practicing four distinct forms of the music.', u'Cannibis drips stoner sludge.\\nFallen grace plays melodic death metal. Funeral in Heaven rages black metal.\\nMerlock blows minds with progressive thrash.'], [u'SOLID METAL NUGGETS', u'\\u2022 Home recording and tape trading\\nplanted heavy metal seeds all over the globe. The musicians or Arise represent that initial flowering\\u2019s\\never-growing bounty. Cheap cameras and the Internet have now made the\\ndocumentary form the next powerful stage of metal\\u2019s grassroots revolution.']]\n"
       ]
      }
     ],
     "prompt_number": 6
    },
    {
     "cell_type": "heading",
     "level": 2,
     "metadata": {},
     "source": [
      "Challenge 1"
     ]
    },
    {
     "cell_type": "raw",
     "metadata": {},
     "source": [
      "Make a histogram of the years in the data. How many metal movies came out over the years?"
     ]
    },
    {
     "cell_type": "code",
     "collapsed": false,
     "input": [
      "%matplotlib inline\n",
      "import pandas as pd\n",
      "import numpy as np\n",
      "import matplotlib.pyplot as plt\n",
      "\n",
      "fieldName = 'year'\n",
      "\n",
      "years = []\n",
      "cursor = hmm.find()\n",
      "for doc in cursor:\n",
      "    if doc[fieldName]:\n",
      "        years.append(doc[fieldName])\n",
      "\n",
      "df = pd.DataFrame(years, columns=[fieldName])\n",
      "\n",
      "#print df\n",
      "\n",
      "groupByYear = df.groupby(fieldName)\n",
      "histData = groupByYear[fieldName].count()\n",
      "\n",
      "print histData\n",
      "\n",
      "histData.plot(kind='bar')\n",
      "plt.ylabel(\"# heavy metal movies\")\n",
      "plt.show()\n"
     ],
     "language": "python",
     "metadata": {},
     "outputs": [
      {
       "output_type": "stream",
       "stream": "stdout",
       "text": [
        "year\n",
        "1910    2\n",
        "1912    2\n",
        "1920    2\n",
        "1922    4\n",
        "1923    2\n",
        "1925    2\n",
        "1926    2\n",
        "1929    2\n",
        "1931    4\n",
        "1932    8\n",
        "1933    2\n",
        "1936    2\n",
        "1940    2\n",
        "1941    2\n",
        "1945    2\n",
        "...\n",
        "1999    18\n",
        "2000    26\n",
        "2001    32\n",
        "2002    24\n",
        "2003    22\n",
        "2004    22\n",
        "2005    26\n",
        "2006    38\n",
        "2007    38\n",
        "2008    52\n",
        "2009    44\n",
        "2010    70\n",
        "2011    38\n",
        "2012    30\n",
        "2013     4\n",
        "Name: year, Length: 74, dtype: int64\n"
       ]
      },
      {
       "metadata": {},
       "output_type": "display_data",
       "png": "[encoded data removed]",
       "text": [
        "<matplotlib.figure.Figure at 0x10d6899d0>"
       ]
      }
     ],
     "prompt_number": 7
    },
    {
     "cell_type": "heading",
     "level": 2,
     "metadata": {},
     "source": [
      "Challenge 2"
     ]
    },
    {
     "cell_type": "raw",
     "metadata": {},
     "source": [
      "Find the cast member that appeared in most Heavy Metal movies. Is there one that is shared by more than one of these movies? Or are they all completely different actors for every movie?"
     ]
    },
    {
     "cell_type": "code",
     "collapsed": false,
     "input": [
      "import operator\n",
      "fieldName = 'cast'\n",
      "\n",
      "# Key: actor name; value: # appearances in cast\n",
      "cast = {}\n",
      "cursor = hmm.find()\n",
      "for doc in cursor:\n",
      "    if doc[fieldName]:\n",
      "        for m in doc[fieldName]:\n",
      "            if m != '':\n",
      "                if cast.has_key(m):\n",
      "                    cast[m] += 1\n",
      "                else:\n",
      "                    cast[m] = 1\n",
      "\n",
      "sortedCast = sorted(cast.items(), key=operator.itemgetter(1), reverse=True)\n",
      "\n",
      "print sortedCast[:10]"
     ],
     "language": "python",
     "metadata": {},
     "outputs": [
      {
       "output_type": "stream",
       "stream": "stdout",
       "text": [
        "[(u'Alice Cooper', 30), (u'Christopher Lee', 28), (u'Arnold Schwarzenegger', 20), (u'Ozzy Osbourne', 18), (u'Peter Cushing', 16), (u'Vincent Price', 16), (u'Gwar', 16), (u'Robert Englund', 14), (u'Metallica', 14), (u'Lemmy', 14)]\n"
       ]
      }
     ],
     "prompt_number": 8
    },
    {
     "cell_type": "heading",
     "level": 2,
     "metadata": {},
     "source": [
      "Challenge 3"
     ]
    },
    {
     "cell_type": "markdown",
     "metadata": {},
     "source": [
      "Find the most used words in Heavy Metal film titles. Is there a word that appears in a lot of them? Is it \"The\"? If it is something like \"the\", How can you get around that? Find one \"meaningful\" word that appears the most (this means non-structural word, unlike \"the\" or \"a\" or \"in\")"
     ]
    },
    {
     "cell_type": "code",
     "collapsed": false,
     "input": [
      "import re\n",
      "from math import log\n",
      "fieldName = 'title'\n",
      "\n",
      "termFreq = {}\n",
      "docFreq = {}\n",
      "nrDocs = 0\n",
      "cursor = hmm.find()\n",
      "for doc in cursor:\n",
      "    if doc[fieldName]:\n",
      "        nrDocs += 1\n",
      "        tokens = re.split(\"\\s+\", doc[fieldName]) # Grossly oversimplified tokenization\n",
      "#        print tokens\n",
      "        seenInThisDoc = {}\n",
      "        for tok in tokens:\n",
      "            if termFreq.has_key(tok):\n",
      "                termFreq[tok] += 1\n",
      "            else:\n",
      "                termFreq[tok] = 1.0\n",
      "            if not seenInThisDoc.has_key(tok):\n",
      "                if docFreq.has_key(tok):\n",
      "                    docFreq[tok] += 1\n",
      "                else:\n",
      "                    docFreq[tok] = 1\n",
      "\n",
      "                seenInThisDoc[tok] = True\n",
      "\n",
      "# As defined in http://staff.city.ac.uk/~sb317/papers/RSJ76.pdf\n",
      "# Referenced from http://terrierteam.dcs.gla.ac.uk/publications/rtlo_DIRpaper.pdf\n",
      "normTfIdf = [ (tok, (-log(termFreq[tok]/len(termFreq.keys()),10) *  log(nrDocs-docFreq[tok]+0.5/docFreq[tok]+0.5,10))) for tok in termFreq.keys() ]\n",
      "sortedNormTfIdf = sorted(normTfIdf, key=lambda elem: elem[1], reverse=True)\n",
      "for e in sortedNormTfIdf[:20]:\n",
      "    print \"%s occurs %d times in %d different titles (TF/IDF score = %2.1f)\" % (e[0], termFreq[e[0]], docFreq[e[0]], e[1])"
     ],
     "language": "python",
     "metadata": {},
     "outputs": [
      {
       "output_type": "stream",
       "stream": "stdout",
       "text": [
        "STAIRWAY occurs 2 times in 2 different titles (TF/IDF score = 9.1)\n",
        "HERETIC occurs 2 times in 2 different titles (TF/IDF score = 9.1)\n",
        "CHIMAIRA: occurs 2 times in 2 different titles (TF/IDF score = 9.1)\n",
        "JOHNNY occurs 2 times in 2 different titles (TF/IDF score = 9.1)\n",
        "CHUCKY occurs 2 times in 2 different titles (TF/IDF score = 9.1)\n",
        "LEMMY occurs 2 times in 2 different titles (TF/IDF score = 9.1)\n",
        "AGE occurs 2 times in 2 different titles (TF/IDF score = 9.1)\n",
        "VIKERNES occurs 2 times in 2 different titles (TF/IDF score = 9.1)\n",
        "SAGE occurs 2 times in 2 different titles (TF/IDF score = 9.1)\n",
        "STREETS occurs 2 times in 2 different titles (TF/IDF score = 9.1)\n",
        "SPIRAL occurs 2 times in 2 different titles (TF/IDF score = 9.1)\n",
        "HARDWARE occurs 2 times in 2 different titles (TF/IDF score = 9.1)\n",
        "CALIGULA occurs 2 times in 2 different titles (TF/IDF score = 9.1)\n",
        "LEATHERFACE: occurs 2 times in 2 different titles (TF/IDF score = 9.1)\n",
        "VAMPYRE occurs 2 times in 2 different titles (TF/IDF score = 9.1)\n",
        "ERIK occurs 2 times in 2 different titles (TF/IDF score = 9.1)\n",
        "FALL occurs 2 times in 2 different titles (TF/IDF score = 9.1)\n",
        "ACES occurs 2 times in 2 different titles (TF/IDF score = 9.1)\n",
        "DRAGONS occurs 2 times in 2 different titles (TF/IDF score = 9.1)\n",
        "BEACH occurs 2 times in 2 different titles (TF/IDF score = 9.1)\n"
       ]
      }
     ],
     "prompt_number": 14
    },
    {
     "cell_type": "heading",
     "level": 2,
     "metadata": {},
     "source": [
      "Challenge 4"
     ]
    },
    {
     "cell_type": "markdown",
     "metadata": {},
     "source": [
      "METAL CRED section lists themes included in these movies that makes them more metal. What were the top 5 metal cred keywords in the 70s? In 80s? In 90s, In 2000s?"
     ]
    },
    {
     "cell_type": "code",
     "collapsed": false,
     "input": [
      "from math import floor\n",
      "metalCredKeywords = {1970: {},\n",
      "                    1980: {},\n",
      "                    1990:{},\n",
      "                    2000: {}}\n",
      "        \n",
      "cursor = hmm.find( {\"year\": {\"$gt\" : 1970, \"$lt\" : 2010}} ).sort(\"year\")\n",
      "for doc in cursor:\n",
      "    if doc[\"metal_cred\"] and doc[\"year\"]:\n",
      "        decade = (floor(doc[\"year\"]/10))*10\n",
      "        for k in [k for k in doc[\"metal_cred\"] if k != 'METAL CRED']:\n",
      "            if metalCredKeywords[decade].has_key(k):\n",
      "                metalCredKeywords[decade][k] += 1\n",
      "            else:\n",
      "                metalCredKeywords[decade][k] = 1\n",
      "\n",
      "for decade in sorted(metalCredKeywords.keys()):\n",
      "    sortedByFreq = sorted(metalCredKeywords[decade], key=lambda key:metalCredKeywords[decade][key], reverse=True)\n",
      "    print \"Most frequent keywords in %d-%d: \" % (decade, decade+9)\n",
      "    for k in sortedByFreq[:5]:\n",
      "        print k, metalCredKeywords[decade][k]\n",
      "    print \"\\n\""
     ],
     "language": "python",
     "metadata": {},
     "outputs": []
    },
    {
     "cell_type": "heading",
     "level": 2,
     "metadata": {},
     "source": [
      "Challenge 5"
     ]
    },
    {
     "cell_type": "markdown",
     "metadata": {},
     "source": [
      "Let's use the length of the METAL CRED section as a proxy score for how metal a movie is. Let's call this the METAL SCORE. To each mongo document, add the metal_score as a new field."
     ]
    },
    {
     "cell_type": "code",
     "collapsed": false,
     "input": [
      "cursor = hmm.find()\n",
      "for doc in cursor:\n",
      "    if doc[\"metal_cred\"]:\n",
      "        doc[\"metal_score\"] = len(doc[\"metal_cred\"])\n",
      "        hmm.save(doc)\n",
      "#        print \"Metal score for '%s' (id %s) is %d\" % (doc[\"title\"], doc[\"_id\"],doc[\"metal_score\"])\n",
      "        "
     ],
     "language": "python",
     "metadata": {},
     "outputs": [],
     "prompt_number": 49
    },
    {
     "cell_type": "heading",
     "level": 2,
     "metadata": {},
     "source": [
      "Challenge 6"
     ]
    },
    {
     "cell_type": "markdown",
     "metadata": {},
     "source": [
      "Find the director that is MOST METAL per movie (director with the highest average metal score). Remember that some movies have multiple directors."
     ]
    },
    {
     "cell_type": "code",
     "collapsed": false,
     "input": [
      "metalDirectors = {}\n",
      "cursor = hmm.find()\n",
      "for doc in cursor:\n",
      "    if doc[\"direct\"]:\n",
      "        for d in doc[\"direct\"]:\n",
      "            if metalDirectors.has_key(d):\n",
      "                metalDirectors[d].append(doc[\"metal_score\"])\n",
      "            else:\n",
      "                metalDirectors[d] = [doc[\"metal_score\"]]\n",
      "\n",
      "metalScoredDirectors = [(k,sum(metalDirectors[k])/float(len(metalDirectors[k]))) for k in metalDirectors.keys()]\n",
      "sortedMetalDirectors = sorted(metalScoredDirectors, key=lambda x: x[1], reverse=True)\n",
      "\n",
      "print sortedMetalDirectors[:10]"
     ],
     "language": "python",
     "metadata": {},
     "outputs": [
      {
       "output_type": "stream",
       "stream": "stdout",
       "text": [
        "[(u'John Milius', 75.0), (u'David Jacobson', 27.0), (u'Robert Hendrickson', 18.0), (u'Laurence Merrick', 18.0), (u'Tinto Brass', 13.0), (u'Bob Guccione', 13.0), (u'Michael Reeves', 11.0), (u'Damiano Damiani', 11.0), (u'Francis Ford Coppola', 11.0), (u'Peter Yates', 10.0)]\n"
       ]
      }
     ],
     "prompt_number": 53
    },
    {
     "cell_type": "heading",
     "level": 2,
     "metadata": {},
     "source": [
      "Challenge 7"
     ]
    },
    {
     "cell_type": "markdown",
     "metadata": {},
     "source": [
      "The majority of directors and actors will have worked on a single movie. See if there are any directors that worked with an actor more than once. If so, find the director-actor duo that have worked together the most times."
     ]
    },
    {
     "cell_type": "code",
     "collapsed": false,
     "input": [
      "directorActorCollaborations = {}\n",
      "cursor = hmm.find()\n",
      "for doc in cursor:\n",
      "    if doc[\"direct\"] and doc[\"cast\"]:\n",
      "        for d in doc[\"direct\"]:\n",
      "            for a in doc[\"cast\"]:\n",
      "                combo = (d,a)\n",
      "                if directorActorCollaborations.has_key(combo):\n",
      "                    directorActorCollaborations[combo] += 1\n",
      "                else:\n",
      "                    directorActorCollaborations[combo] = 1\n",
      "            \n",
      "sortedList = sorted(directorActorCollaborations.items(), key=operator.itemgetter(1), reverse=True)\n",
      "\n",
      "print sortedList[0]"
     ],
     "language": "python",
     "metadata": {},
     "outputs": [
      {
       "output_type": "stream",
       "stream": "stdout",
       "text": [
        "((u'Dario Argento', u'Daria Nicolodi'), 8)\n"
       ]
      }
     ],
     "prompt_number": 62
    },
    {
     "cell_type": "heading",
     "level": 2,
     "metadata": {},
     "source": [
      "Challenge 8"
     ]
    },
    {
     "cell_type": "raw",
     "metadata": {},
     "source": [
      "Create an index on the 'director' field to make the queries involving it faster"
     ]
    },
    {
     "cell_type": "code",
     "collapsed": false,
     "input": [
      "hmm.create_index(\"direct\")"
     ],
     "language": "python",
     "metadata": {},
     "outputs": [
      {
       "metadata": {},
       "output_type": "pyout",
       "prompt_number": 63,
       "text": [
        "u'direct_1'"
       ]
      }
     ],
     "prompt_number": 63
    },
    {
     "cell_type": "code",
     "collapsed": false,
     "input": [],
     "language": "python",
     "metadata": {},
     "outputs": []
    }
   ],
   "metadata": {}
  }
 ]
}